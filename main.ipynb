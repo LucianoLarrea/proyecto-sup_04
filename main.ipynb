{
 "cells": [
  {
   "cell_type": "code",
   "execution_count": 1,
   "metadata": {},
   "outputs": [],
   "source": [
    "from fastapi import FastAPI\n",
    "\n",
    "app = FastAPI()\n",
    "\n",
    "import polars as pl\n",
    "\n",
    "df = pl.read_csv('data/chocobar.csv', sep=',', infer_schema_length=10000)\n",
    "\n",
    "df1 = df.filter(pl.col('cacao')=='100%')\n",
    "dic1 = df1.to_dict()\n",
    "\n",
    "sorted_df = df.sort(by='cacao', descending=True)\n",
    "df2 = sorted_df.head(10)\n",
    "dic2 = df2.to_dict()\n",
    "\n",
    "df3 = df\n",
    "dic3 = df3.to_dict()\n",
    "\n",
    "mean_ref = df['ref'].mean()\n",
    "df4 = df.filter(pl.col('ref')<mean_ref)\n",
    "df4 = df4.select(pl.col(['company','ref','res']))\n",
    "dic4 = df4.to_dict()\n",
    "\n",
    "\n",
    "@app.get('/')\n",
    "async def index():\n",
    "    return{'estado','funcionando'}\n",
    "\n",
    "@app.get('/puro')\n",
    "async def puro():\n",
    "    return dic1\n",
    "\n",
    "@app.get('/top10')\n",
    "async def top10():\n",
    "    return dic2\n",
    "\n",
    "@app.get('/full')\n",
    "async def full():\n",
    "    return dic3\n",
    "\n",
    "@app.get('/ref')\n",
    "async def ref():\n",
    "    return dic4"
   ]
  }
 ],
 "metadata": {
  "kernelspec": {
   "display_name": "Python 3",
   "language": "python",
   "name": "python3"
  },
  "language_info": {
   "codemirror_mode": {
    "name": "ipython",
    "version": 3
   },
   "file_extension": ".py",
   "mimetype": "text/x-python",
   "name": "python",
   "nbconvert_exporter": "python",
   "pygments_lexer": "ipython3",
   "version": "3.10.10"
  },
  "orig_nbformat": 4
 },
 "nbformat": 4,
 "nbformat_minor": 2
}
