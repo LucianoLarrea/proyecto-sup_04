{
 "cells": [
  {
   "cell_type": "code",
   "execution_count": 7,
   "metadata": {},
   "outputs": [
    {
     "data": {
      "text/html": [
       "<div><style>\n",
       ".dataframe > thead > tr > th,\n",
       ".dataframe > tbody > tr > td {\n",
       "  text-align: right;\n",
       "}\n",
       "</style>\n",
       "<small>shape: (5, 11)</small><table border=\"1\" class=\"dataframe\"><thead><tr><th>company</th><th>name-origin</th><th>ref</th><th>review</th><th>cacao</th><th>location</th><th>rating</th><th>bean</th><th>bean-origin</th><th>pur</th><th>res</th></tr><tr><td>str</td><td>str</td><td>i64</td><td>i64</td><td>str</td><td>str</td><td>f64</td><td>str</td><td>str</td><td>str</td><td>str</td></tr></thead><tbody><tr><td>&quot;A. Morin&quot;</td><td>&quot;Agua Grande&quot;</td><td>1876</td><td>2016</td><td>&quot;63%&quot;</td><td>&quot;France&quot;</td><td>3.75</td><td>&quot; &quot;</td><td>&quot;Sao Tome&quot;</td><td>&quot;INTERMEDIO&quot;</td><td>&quot;A. Morin&amp;INTER...</td></tr><tr><td>&quot;A. Morin&quot;</td><td>&quot;Kpime&quot;</td><td>1676</td><td>2015</td><td>&quot;70%&quot;</td><td>&quot;France&quot;</td><td>2.75</td><td>&quot; &quot;</td><td>&quot;Togo&quot;</td><td>&quot;INTERMEDIO&quot;</td><td>&quot;A. Morin&amp;INTER...</td></tr><tr><td>&quot;A. Morin&quot;</td><td>&quot;Atsane&quot;</td><td>1676</td><td>2015</td><td>&quot;70%&quot;</td><td>&quot;France&quot;</td><td>3.0</td><td>&quot; &quot;</td><td>&quot;Togo&quot;</td><td>&quot;INTERMEDIO&quot;</td><td>&quot;A. Morin&amp;INTER...</td></tr><tr><td>&quot;A. Morin&quot;</td><td>&quot;Akata&quot;</td><td>1680</td><td>2015</td><td>&quot;70%&quot;</td><td>&quot;France&quot;</td><td>3.5</td><td>&quot; &quot;</td><td>&quot;Togo&quot;</td><td>&quot;INTERMEDIO&quot;</td><td>&quot;A. Morin&amp;INTER...</td></tr><tr><td>&quot;A. Morin&quot;</td><td>&quot;Quilla&quot;</td><td>1704</td><td>2015</td><td>&quot;70%&quot;</td><td>&quot;France&quot;</td><td>3.5</td><td>&quot; &quot;</td><td>&quot;Peru&quot;</td><td>&quot;INTERMEDIO&quot;</td><td>&quot;A. Morin&amp;INTER...</td></tr></tbody></table></div>"
      ],
      "text/plain": [
       "shape: (5, 11)\n",
       "┌──────────┬─────────────┬──────┬────────┬─────┬──────┬─────────────┬────────────┬─────────────────┐\n",
       "│ company  ┆ name-origin ┆ ref  ┆ review ┆ ... ┆ bean ┆ bean-origin ┆ pur        ┆ res             │\n",
       "│ ---      ┆ ---         ┆ ---  ┆ ---    ┆     ┆ ---  ┆ ---         ┆ ---        ┆ ---             │\n",
       "│ str      ┆ str         ┆ i64  ┆ i64    ┆     ┆ str  ┆ str         ┆ str        ┆ str             │\n",
       "╞══════════╪═════════════╪══════╪════════╪═════╪══════╪═════════════╪════════════╪═════════════════╡\n",
       "│ A. Morin ┆ Agua Grande ┆ 1876 ┆ 2016   ┆ ... ┆      ┆ Sao Tome    ┆ INTERMEDIO ┆ A. Morin&INTERM │\n",
       "│          ┆             ┆      ┆        ┆     ┆      ┆             ┆            ┆ EDIO&3.75&Franc │\n",
       "│          ┆             ┆      ┆        ┆     ┆      ┆             ┆            ┆ e               │\n",
       "│ A. Morin ┆ Kpime       ┆ 1676 ┆ 2015   ┆ ... ┆      ┆ Togo        ┆ INTERMEDIO ┆ A. Morin&INTERM │\n",
       "│          ┆             ┆      ┆        ┆     ┆      ┆             ┆            ┆ EDIO&2.75&Franc │\n",
       "│          ┆             ┆      ┆        ┆     ┆      ┆             ┆            ┆ e               │\n",
       "│ A. Morin ┆ Atsane      ┆ 1676 ┆ 2015   ┆ ... ┆      ┆ Togo        ┆ INTERMEDIO ┆ A. Morin&INTERM │\n",
       "│          ┆             ┆      ┆        ┆     ┆      ┆             ┆            ┆ EDIO&3.0&France │\n",
       "│ A. Morin ┆ Akata       ┆ 1680 ┆ 2015   ┆ ... ┆      ┆ Togo        ┆ INTERMEDIO ┆ A. Morin&INTERM │\n",
       "│          ┆             ┆      ┆        ┆     ┆      ┆             ┆            ┆ EDIO&3.5&France │\n",
       "│ A. Morin ┆ Quilla      ┆ 1704 ┆ 2015   ┆ ... ┆      ┆ Peru        ┆ INTERMEDIO ┆ A. Morin&INTERM │\n",
       "│          ┆             ┆      ┆        ┆     ┆      ┆             ┆            ┆ EDIO&3.5&France │\n",
       "└──────────┴─────────────┴──────┴────────┴─────┴──────┴─────────────┴────────────┴─────────────────┘"
      ]
     },
     "execution_count": 7,
     "metadata": {},
     "output_type": "execute_result"
    }
   ],
   "source": [
    "import polars as pl\n",
    "\n",
    "df = pl.read_csv('../data/chocobar.csv', sep=',', infer_schema_length=10000)\n",
    "# df.head()\n"
   ]
  },
  {
   "cell_type": "code",
   "execution_count": 8,
   "metadata": {},
   "outputs": [],
   "source": [
    "# Query chocolates 100% cacao\n",
    "df1 = df.filter(pl.col('cacao')=='100%')\n",
    "dic1 = df1.to_dict()"
   ]
  },
  {
   "cell_type": "code",
   "execution_count": 9,
   "metadata": {},
   "outputs": [],
   "source": [
    "# Query top10 rating\n",
    "# Ordena 'cacao' en descendente\n",
    "sorted_df = df.sort(by='cacao', descending=True)\n",
    "\n",
    "# Selecciona los primeros 10 registros del DataFrame ordenado\n",
    "df2 = sorted_df.head(10)\n",
    "dic2 = df2.to_dict()"
   ]
  },
  {
   "cell_type": "code",
   "execution_count": 10,
   "metadata": {},
   "outputs": [],
   "source": [
    "# Lista completa de todos los chocolates (Por cual columna hay que filtrar?)\n",
    "df3 = df\n",
    "dic3 = df3.to_dict()\n",
    "# df.filter(pl.col('ref'))\n",
    "# df.groupby('cacao').agg(pl.all())\n"
   ]
  },
  {
   "cell_type": "code",
   "execution_count": 11,
   "metadata": {},
   "outputs": [],
   "source": [
    "# chocolates con el valor de ref menor al promedio, solo las columnas company,ref,res\n",
    "mean_ref = df['ref'].mean()\n",
    "df4 = df.filter(pl.col('ref')<mean_ref)\n",
    "df4 = df4.select(pl.col(['company','ref','res']))\n",
    "dic4 = df4.to_dict()"
   ]
  },
  {
   "cell_type": "code",
   "execution_count": 12,
   "metadata": {},
   "outputs": [],
   "source": [
    "# Eporta los diccionarios a archivos JSON\n",
    "# import json\n",
    "\n",
    "# with open(\"dic1.json\", \"w\") as f:\n",
    "#    json.dump(dic1, f)\n",
    "    \n",
    "# with open(\"dic2.json\", \"w\") as f:\n",
    "#     json.dump(dic2, f)\n",
    "    \n",
    "# with open(\"dic3.json\", \"w\") as f:\n",
    "#     json.dump(dic3, f)\n",
    "    \n",
    "# with open(\"dic4.json\", \"w\") as f:\n",
    "#     json.dump(dic4, f)"
   ]
  }
 ],
 "metadata": {
  "kernelspec": {
   "display_name": "Python 3",
   "language": "python",
   "name": "python3"
  },
  "language_info": {
   "codemirror_mode": {
    "name": "ipython",
    "version": 3
   },
   "file_extension": ".py",
   "mimetype": "text/x-python",
   "name": "python",
   "nbconvert_exporter": "python",
   "pygments_lexer": "ipython3",
   "version": "3.10.10"
  },
  "orig_nbformat": 4
 },
 "nbformat": 4,
 "nbformat_minor": 2
}
