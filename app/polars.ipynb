{
 "cells": [
  {
   "cell_type": "code",
   "execution_count": 11,
   "metadata": {},
   "outputs": [
    {
     "data": {
      "text/html": [
       "<div><style>\n",
       ".dataframe > thead > tr > th,\n",
       ".dataframe > tbody > tr > td {\n",
       "  text-align: right;\n",
       "}\n",
       "</style>\n",
       "<small>shape: (5, 11)</small><table border=\"1\" class=\"dataframe\"><thead><tr><th>company</th><th>name-origin</th><th>ref</th><th>review</th><th>cacao</th><th>location</th><th>rating</th><th>bean</th><th>bean-origin</th><th>pur</th><th>res</th></tr><tr><td>str</td><td>str</td><td>i64</td><td>i64</td><td>str</td><td>str</td><td>f64</td><td>str</td><td>str</td><td>str</td><td>str</td></tr></thead><tbody><tr><td>&quot;A. Morin&quot;</td><td>&quot;Agua Grande&quot;</td><td>1876</td><td>2016</td><td>&quot;63%&quot;</td><td>&quot;France&quot;</td><td>3.75</td><td>&quot; &quot;</td><td>&quot;Sao Tome&quot;</td><td>&quot;INTERMEDIO&quot;</td><td>&quot;A. Morin&amp;INTER...</td></tr><tr><td>&quot;A. Morin&quot;</td><td>&quot;Kpime&quot;</td><td>1676</td><td>2015</td><td>&quot;70%&quot;</td><td>&quot;France&quot;</td><td>2.75</td><td>&quot; &quot;</td><td>&quot;Togo&quot;</td><td>&quot;INTERMEDIO&quot;</td><td>&quot;A. Morin&amp;INTER...</td></tr><tr><td>&quot;A. Morin&quot;</td><td>&quot;Atsane&quot;</td><td>1676</td><td>2015</td><td>&quot;70%&quot;</td><td>&quot;France&quot;</td><td>3.0</td><td>&quot; &quot;</td><td>&quot;Togo&quot;</td><td>&quot;INTERMEDIO&quot;</td><td>&quot;A. Morin&amp;INTER...</td></tr><tr><td>&quot;A. Morin&quot;</td><td>&quot;Akata&quot;</td><td>1680</td><td>2015</td><td>&quot;70%&quot;</td><td>&quot;France&quot;</td><td>3.5</td><td>&quot; &quot;</td><td>&quot;Togo&quot;</td><td>&quot;INTERMEDIO&quot;</td><td>&quot;A. Morin&amp;INTER...</td></tr><tr><td>&quot;A. Morin&quot;</td><td>&quot;Quilla&quot;</td><td>1704</td><td>2015</td><td>&quot;70%&quot;</td><td>&quot;France&quot;</td><td>3.5</td><td>&quot; &quot;</td><td>&quot;Peru&quot;</td><td>&quot;INTERMEDIO&quot;</td><td>&quot;A. Morin&amp;INTER...</td></tr></tbody></table></div>"
      ],
      "text/plain": [
       "shape: (5, 11)\n",
       "┌──────────┬─────────────┬──────┬────────┬─────┬──────┬─────────────┬────────────┬─────────────────┐\n",
       "│ company  ┆ name-origin ┆ ref  ┆ review ┆ ... ┆ bean ┆ bean-origin ┆ pur        ┆ res             │\n",
       "│ ---      ┆ ---         ┆ ---  ┆ ---    ┆     ┆ ---  ┆ ---         ┆ ---        ┆ ---             │\n",
       "│ str      ┆ str         ┆ i64  ┆ i64    ┆     ┆ str  ┆ str         ┆ str        ┆ str             │\n",
       "╞══════════╪═════════════╪══════╪════════╪═════╪══════╪═════════════╪════════════╪═════════════════╡\n",
       "│ A. Morin ┆ Agua Grande ┆ 1876 ┆ 2016   ┆ ... ┆      ┆ Sao Tome    ┆ INTERMEDIO ┆ A. Morin&INTERM │\n",
       "│          ┆             ┆      ┆        ┆     ┆      ┆             ┆            ┆ EDIO&3.75&Franc │\n",
       "│          ┆             ┆      ┆        ┆     ┆      ┆             ┆            ┆ e               │\n",
       "│ A. Morin ┆ Kpime       ┆ 1676 ┆ 2015   ┆ ... ┆      ┆ Togo        ┆ INTERMEDIO ┆ A. Morin&INTERM │\n",
       "│          ┆             ┆      ┆        ┆     ┆      ┆             ┆            ┆ EDIO&2.75&Franc │\n",
       "│          ┆             ┆      ┆        ┆     ┆      ┆             ┆            ┆ e               │\n",
       "│ A. Morin ┆ Atsane      ┆ 1676 ┆ 2015   ┆ ... ┆      ┆ Togo        ┆ INTERMEDIO ┆ A. Morin&INTERM │\n",
       "│          ┆             ┆      ┆        ┆     ┆      ┆             ┆            ┆ EDIO&3.0&France │\n",
       "│ A. Morin ┆ Akata       ┆ 1680 ┆ 2015   ┆ ... ┆      ┆ Togo        ┆ INTERMEDIO ┆ A. Morin&INTERM │\n",
       "│          ┆             ┆      ┆        ┆     ┆      ┆             ┆            ┆ EDIO&3.5&France │\n",
       "│ A. Morin ┆ Quilla      ┆ 1704 ┆ 2015   ┆ ... ┆      ┆ Peru        ┆ INTERMEDIO ┆ A. Morin&INTERM │\n",
       "│          ┆             ┆      ┆        ┆     ┆      ┆             ┆            ┆ EDIO&3.5&France │\n",
       "└──────────┴─────────────┴──────┴────────┴─────┴──────┴─────────────┴────────────┴─────────────────┘"
      ]
     },
     "execution_count": 11,
     "metadata": {},
     "output_type": "execute_result"
    }
   ],
   "source": [
    "import polars as pl\n",
    "\n",
    "df = pl.read_csv('../data/chocobar.csv', sep=',', infer_schema_length=10000)\n",
    "df.head()\n"
   ]
  },
  {
   "cell_type": "code",
   "execution_count": 12,
   "metadata": {},
   "outputs": [],
   "source": [
    "# Query chocolates 100% cacao\n",
    "df1 = df.filter(pl.col('cacao')=='100%')\n",
    "dic1 = df1.to_dict()"
   ]
  },
  {
   "cell_type": "code",
   "execution_count": 13,
   "metadata": {},
   "outputs": [
    {
     "name": "stderr",
     "output_type": "stream",
     "text": [
      "/var/folders/qr/g6x89n_d48j570j5qt_7mrhr0000gn/T/ipykernel_42588/3735882836.py:3: DeprecationWarning: `reverse` is deprecated as an argument to `sort`; use `descending` instead.\n",
      "  sorted_df = df.sort(by='cacao', reverse=True)\n"
     ]
    }
   ],
   "source": [
    "# Query top10 rating\n",
    "# Ordena 'cacao' en descendente\n",
    "sorted_df = df.sort(by='cacao', reverse=True)\n",
    "\n",
    "# Selecciona los primeros 10 registros del DataFrame ordenado\n",
    "df2 = sorted_df.head(10)\n",
    "dic2 = df2.to_dict()"
   ]
  },
  {
   "cell_type": "code",
   "execution_count": 14,
   "metadata": {},
   "outputs": [],
   "source": [
    "# Lista completa de todos los chocolates (Por cual columna hay que filtrar?)\n",
    "df3 = df\n",
    "dic3 = df3.to_dict()\n",
    "# df.filter(pl.col('ref'))\n",
    "# df.groupby('cacao').agg(pl.all())\n"
   ]
  },
  {
   "cell_type": "code",
   "execution_count": 15,
   "metadata": {},
   "outputs": [],
   "source": [
    "# chocolates con el valor de ref menor al promedio, solo las columnas company,ref,res\n",
    "mean_ref = df['ref'].mean()\n",
    "df4 = df.filter(pl.col('ref')<mean_ref)\n",
    "df4 = df4.select(pl.col(['company','ref','res']))\n",
    "dic4 = df4.to_dict()"
   ]
  },
  {
   "cell_type": "code",
   "execution_count": 17,
   "metadata": {},
   "outputs": [
    {
     "ename": "TypeError",
     "evalue": "Object of type Series is not JSON serializable",
     "output_type": "error",
     "traceback": [
      "\u001b[0;31m---------------------------------------------------------------------------\u001b[0m",
      "\u001b[0;31mTypeError\u001b[0m                                 Traceback (most recent call last)",
      "Cell \u001b[0;32mIn[17], line 5\u001b[0m\n\u001b[1;32m      2\u001b[0m \u001b[39mimport\u001b[39;00m \u001b[39mjson\u001b[39;00m\n\u001b[1;32m      4\u001b[0m \u001b[39mwith\u001b[39;00m \u001b[39mopen\u001b[39m(\u001b[39m\"\u001b[39m\u001b[39mdic1.json\u001b[39m\u001b[39m\"\u001b[39m, \u001b[39m\"\u001b[39m\u001b[39mw\u001b[39m\u001b[39m\"\u001b[39m) \u001b[39mas\u001b[39;00m f:\n\u001b[0;32m----> 5\u001b[0m     json\u001b[39m.\u001b[39;49mdump(dic1, f)\n\u001b[1;32m      7\u001b[0m \u001b[39mwith\u001b[39;00m \u001b[39mopen\u001b[39m(\u001b[39m\"\u001b[39m\u001b[39mdic2.json\u001b[39m\u001b[39m\"\u001b[39m, \u001b[39m\"\u001b[39m\u001b[39mw\u001b[39m\u001b[39m\"\u001b[39m) \u001b[39mas\u001b[39;00m f:\n\u001b[1;32m      8\u001b[0m     json\u001b[39m.\u001b[39mdump(dic2, f)\n",
      "File \u001b[0;32m/Library/Frameworks/Python.framework/Versions/3.10/lib/python3.10/json/__init__.py:179\u001b[0m, in \u001b[0;36mdump\u001b[0;34m(obj, fp, skipkeys, ensure_ascii, check_circular, allow_nan, cls, indent, separators, default, sort_keys, **kw)\u001b[0m\n\u001b[1;32m    173\u001b[0m     iterable \u001b[39m=\u001b[39m \u001b[39mcls\u001b[39m(skipkeys\u001b[39m=\u001b[39mskipkeys, ensure_ascii\u001b[39m=\u001b[39mensure_ascii,\n\u001b[1;32m    174\u001b[0m         check_circular\u001b[39m=\u001b[39mcheck_circular, allow_nan\u001b[39m=\u001b[39mallow_nan, indent\u001b[39m=\u001b[39mindent,\n\u001b[1;32m    175\u001b[0m         separators\u001b[39m=\u001b[39mseparators,\n\u001b[1;32m    176\u001b[0m         default\u001b[39m=\u001b[39mdefault, sort_keys\u001b[39m=\u001b[39msort_keys, \u001b[39m*\u001b[39m\u001b[39m*\u001b[39mkw)\u001b[39m.\u001b[39miterencode(obj)\n\u001b[1;32m    177\u001b[0m \u001b[39m# could accelerate with writelines in some versions of Python, at\u001b[39;00m\n\u001b[1;32m    178\u001b[0m \u001b[39m# a debuggability cost\u001b[39;00m\n\u001b[0;32m--> 179\u001b[0m \u001b[39mfor\u001b[39;00m chunk \u001b[39min\u001b[39;00m iterable:\n\u001b[1;32m    180\u001b[0m     fp\u001b[39m.\u001b[39mwrite(chunk)\n",
      "File \u001b[0;32m/Library/Frameworks/Python.framework/Versions/3.10/lib/python3.10/json/encoder.py:431\u001b[0m, in \u001b[0;36m_make_iterencode.<locals>._iterencode\u001b[0;34m(o, _current_indent_level)\u001b[0m\n\u001b[1;32m    429\u001b[0m     \u001b[39myield from\u001b[39;00m _iterencode_list(o, _current_indent_level)\n\u001b[1;32m    430\u001b[0m \u001b[39melif\u001b[39;00m \u001b[39misinstance\u001b[39m(o, \u001b[39mdict\u001b[39m):\n\u001b[0;32m--> 431\u001b[0m     \u001b[39myield from\u001b[39;00m _iterencode_dict(o, _current_indent_level)\n\u001b[1;32m    432\u001b[0m \u001b[39melse\u001b[39;00m:\n\u001b[1;32m    433\u001b[0m     \u001b[39mif\u001b[39;00m markers \u001b[39mis\u001b[39;00m \u001b[39mnot\u001b[39;00m \u001b[39mNone\u001b[39;00m:\n",
      "File \u001b[0;32m/Library/Frameworks/Python.framework/Versions/3.10/lib/python3.10/json/encoder.py:405\u001b[0m, in \u001b[0;36m_make_iterencode.<locals>._iterencode_dict\u001b[0;34m(dct, _current_indent_level)\u001b[0m\n\u001b[1;32m    403\u001b[0m         \u001b[39melse\u001b[39;00m:\n\u001b[1;32m    404\u001b[0m             chunks \u001b[39m=\u001b[39m _iterencode(value, _current_indent_level)\n\u001b[0;32m--> 405\u001b[0m         \u001b[39myield from\u001b[39;00m chunks\n\u001b[1;32m    406\u001b[0m \u001b[39mif\u001b[39;00m newline_indent \u001b[39mis\u001b[39;00m \u001b[39mnot\u001b[39;00m \u001b[39mNone\u001b[39;00m:\n\u001b[1;32m    407\u001b[0m     _current_indent_level \u001b[39m-\u001b[39m\u001b[39m=\u001b[39m \u001b[39m1\u001b[39m\n",
      "File \u001b[0;32m/Library/Frameworks/Python.framework/Versions/3.10/lib/python3.10/json/encoder.py:438\u001b[0m, in \u001b[0;36m_make_iterencode.<locals>._iterencode\u001b[0;34m(o, _current_indent_level)\u001b[0m\n\u001b[1;32m    436\u001b[0m         \u001b[39mraise\u001b[39;00m \u001b[39mValueError\u001b[39;00m(\u001b[39m\"\u001b[39m\u001b[39mCircular reference detected\u001b[39m\u001b[39m\"\u001b[39m)\n\u001b[1;32m    437\u001b[0m     markers[markerid] \u001b[39m=\u001b[39m o\n\u001b[0;32m--> 438\u001b[0m o \u001b[39m=\u001b[39m _default(o)\n\u001b[1;32m    439\u001b[0m \u001b[39myield from\u001b[39;00m _iterencode(o, _current_indent_level)\n\u001b[1;32m    440\u001b[0m \u001b[39mif\u001b[39;00m markers \u001b[39mis\u001b[39;00m \u001b[39mnot\u001b[39;00m \u001b[39mNone\u001b[39;00m:\n",
      "File \u001b[0;32m/Library/Frameworks/Python.framework/Versions/3.10/lib/python3.10/json/encoder.py:179\u001b[0m, in \u001b[0;36mJSONEncoder.default\u001b[0;34m(self, o)\u001b[0m\n\u001b[1;32m    160\u001b[0m \u001b[39mdef\u001b[39;00m \u001b[39mdefault\u001b[39m(\u001b[39mself\u001b[39m, o):\n\u001b[1;32m    161\u001b[0m \u001b[39m    \u001b[39m\u001b[39m\"\"\"Implement this method in a subclass such that it returns\u001b[39;00m\n\u001b[1;32m    162\u001b[0m \u001b[39m    a serializable object for ``o``, or calls the base implementation\u001b[39;00m\n\u001b[1;32m    163\u001b[0m \u001b[39m    (to raise a ``TypeError``).\u001b[39;00m\n\u001b[0;32m   (...)\u001b[0m\n\u001b[1;32m    177\u001b[0m \n\u001b[1;32m    178\u001b[0m \u001b[39m    \"\"\"\u001b[39;00m\n\u001b[0;32m--> 179\u001b[0m     \u001b[39mraise\u001b[39;00m \u001b[39mTypeError\u001b[39;00m(\u001b[39mf\u001b[39m\u001b[39m'\u001b[39m\u001b[39mObject of type \u001b[39m\u001b[39m{\u001b[39;00mo\u001b[39m.\u001b[39m\u001b[39m__class__\u001b[39m\u001b[39m.\u001b[39m\u001b[39m__name__\u001b[39m\u001b[39m}\u001b[39;00m\u001b[39m \u001b[39m\u001b[39m'\u001b[39m\n\u001b[1;32m    180\u001b[0m                     \u001b[39mf\u001b[39m\u001b[39m'\u001b[39m\u001b[39mis not JSON serializable\u001b[39m\u001b[39m'\u001b[39m)\n",
      "\u001b[0;31mTypeError\u001b[0m: Object of type Series is not JSON serializable"
     ]
    }
   ],
   "source": [
    "# Eporta los diccionarios a archivos JSON\n",
    "import json\n",
    "\n",
    "with open(\"dic1.json\", \"w\") as f:\n",
    "    json.dump(dic1, f)\n",
    "    \n",
    "with open(\"dic2.json\", \"w\") as f:\n",
    "    json.dump(dic2, f)\n",
    "    \n",
    "with open(\"dic3.json\", \"w\") as f:\n",
    "    json.dump(dic3, f)\n",
    "    \n",
    "with open(\"dic4.json\", \"w\") as f:\n",
    "    json.dump(dic4, f)"
   ]
  }
 ],
 "metadata": {
  "kernelspec": {
   "display_name": "Python 3",
   "language": "python",
   "name": "python3"
  },
  "language_info": {
   "codemirror_mode": {
    "name": "ipython",
    "version": 3
   },
   "file_extension": ".py",
   "mimetype": "text/x-python",
   "name": "python",
   "nbconvert_exporter": "python",
   "pygments_lexer": "ipython3",
   "version": "3.10.10"
  },
  "orig_nbformat": 4
 },
 "nbformat": 4,
 "nbformat_minor": 2
}
